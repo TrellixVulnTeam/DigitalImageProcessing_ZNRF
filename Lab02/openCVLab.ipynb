{
 "cells": [
  {
   "cell_type": "code",
   "execution_count": 1,
   "metadata": {
    "collapsed": true
   },
   "outputs": [],
   "source": [
    "import cv2\n",
    "import numpy as np\n",
    "#讀入圖片\n",
    "theImage=cv2.imread(\"Lenna.jpg\")\n",
    "#先把彩色圖片轉成黑白的\n",
    "theImageGray=cv2.cvtColor(theImage,cv2.COLOR_BGR2GRAY)\n",
    "#秀出黑白圖片\n",
    "cv2.imshow(\"show photo\", theImageGray)\n",
    "#等按按鈕後關掉視窗\n",
    "cv2.waitKey(0)\n",
    "cv2.destroyAllWindows()"
   ]
  },
  {
   "cell_type": "code",
   "execution_count": 2,
   "outputs": [
    {
     "data": {
      "text/plain": "True"
     },
     "execution_count": 2,
     "metadata": {},
     "output_type": "execute_result"
    }
   ],
   "source": [
    "#反白\n",
    "\n",
    "#每一個PIXEL取灰階值補數\n",
    "theImageReverse=255-theImageGray\n",
    "#秀出反白後的照片\n",
    "cv2.imshow(\"show photo\", theImageReverse)\n",
    "#等按按鈕後關掉視窗\n",
    "cv2.waitKey(0)\n",
    "cv2.destroyAllWindows()\n",
    "#把反白照片存成reverseResult\n",
    "cv2.imwrite(\"reverseResult.jpg\",theImageReverse)"
   ],
   "metadata": {
    "collapsed": false,
    "pycharm": {
     "name": "#%%\n"
    }
   }
  },
  {
   "cell_type": "code",
   "execution_count": 3,
   "outputs": [
    {
     "data": {
      "text/plain": "True"
     },
     "execution_count": 3,
     "metadata": {},
     "output_type": "execute_result"
    }
   ],
   "source": [
    "##二值化\n",
    "\n",
    "#取照片灰階值的平均\n",
    "theAverge=np.mean(theImageGray)\n",
    "#利用平均值當作門檻進行二值化操作\n",
    "theUsedThreshold,thrImageBinary = cv2.threshold(theImageGray,theAverge,255,cv2.THRESH_BINARY)\n",
    "#秀出二值化影像\n",
    "cv2.imshow(\"show photo\", thrImageBinary)\n",
    "#等按按鈕後關掉視窗\n",
    "cv2.waitKey(0)\n",
    "#把反白照片存成binaryResult\n",
    "cv2.destroyAllWindows()\n",
    "cv2.imwrite(\"binaryResult.jpg\",thrImageBinary)\n"
   ],
   "metadata": {
    "collapsed": false,
    "pycharm": {
     "name": "#%%\n"
    }
   }
  }
 ],
 "metadata": {
  "kernelspec": {
   "display_name": "Python 3",
   "language": "python",
   "name": "python3"
  },
  "language_info": {
   "codemirror_mode": {
    "name": "ipython",
    "version": 2
   },
   "file_extension": ".py",
   "mimetype": "text/x-python",
   "name": "python",
   "nbconvert_exporter": "python",
   "pygments_lexer": "ipython2",
   "version": "2.7.6"
  }
 },
 "nbformat": 4,
 "nbformat_minor": 0
}