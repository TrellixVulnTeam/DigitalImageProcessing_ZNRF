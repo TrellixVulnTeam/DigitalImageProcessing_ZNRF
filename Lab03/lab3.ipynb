{
 "cells": [
  {
   "cell_type": "code",
   "execution_count": 65,
   "metadata": {
    "collapsed": true
   },
   "outputs": [],
   "source": [
    "import cv2\n",
    "import numpy as np\n",
    "theImage=cv2.imread(\"Lenna.jpg\")\n",
    "#先把彩色圖片轉成黑白的\n",
    "theImageGray=cv2.cvtColor(theImage,cv2.COLOR_BGR2GRAY)\n",
    "#秀出黑白圖片\n",
    "cv2.imshow(\"show photo\", theImageGray)\n",
    "#等按按鈕後關掉視窗\n",
    "cv2.waitKey(0)\n",
    "cv2.destroyAllWindows()"
   ]
  },
  {
   "cell_type": "code",
   "execution_count": 66,
   "outputs": [],
   "source": [
    "DitherArray=np.array([[0.513,0.272,0.724,0.483,0.543,0.302,0.694,0.453],\n",
    " [0.151,0.755,0.091,0.966,0.181,0.758,0.121,0.936],\n",
    " [0.634,0.392,0.574,0.332,0.664,0.423,0.604,0.362],\n",
    " [0.060,0.875,0.211,0.815,0.030,0.906,0.241,0.845],\n",
    " [0.543,0.302,0.694,0.453,0.513,0.272,0.724,0.483],\n",
    " [0.181,0.758,0.121,0.936,0.151,0.755,0.091,0.936],\n",
    " [0.664,0.423,0.604,0.362,0.634,0.392,0.574,0.332],\n",
    " [0.030,0.906,0.241,0.845,0.060,0.875,0.211,0.815]])*255"
   ],
   "metadata": {
    "collapsed": false,
    "pycharm": {
     "name": "#%%\n"
    }
   }
  },
  {
   "cell_type": "code",
   "execution_count": 67,
   "outputs": [],
   "source": [
    "#Ordered Dithering\n",
    "theDitheredImage=theImageGray\n",
    "height,width=theDitheredImage.shape\n",
    "for i in range(0,height,8):\n",
    "    for j in range(0,width,8):\n",
    "        theDitheredImage[i:i+8,j:j+8]=(DitherArray>theDitheredImage[i:i+8,j:j+8])*255\n",
    "\n",
    "\n",
    "#秀出圖片\n",
    "cv2.imshow(\"show photo\", theDitheredImage)\n",
    "#等按按鈕後關掉視窗\n",
    "cv2.waitKey(0)\n",
    "cv2.destroyAllWindows()\n"
   ],
   "metadata": {
    "collapsed": false,
    "pycharm": {
     "name": "#%%\n"
    }
   }
  },
  {
   "cell_type": "code",
   "execution_count": null,
   "outputs": [],
   "source": [
    "#Error Diffusion\n",
    "errorArray=np.array([[0.0,    0.0,     0.0,     0.19040, 0.095230],\n",
    " [0.04762,0.095230,0.19040, 0.095230,0.04762 ],\n",
    " [0.02381,0.047620,0.095230,0.047620,0.02381]])\n",
    "\n",
    "theErrorDiffusedImage=theImageGray\n",
    "height,width=theErrorDiffusedImage.shape\n",
    "\n",
    "tempArray=np.zeros((height+4,width+4))\n",
    "tempArray[2:height+2,2:width+2]=theErrorDiffusedImage\n",
    "for i in range(2,height+2):\n",
    "    for j in range(2,width+2):\n",
    "        #TODO:把內容補完\n",
    "        old = tempArray[i, j]\n",
    "        new = (old // (255//2))*(255 //(2-1))\n",
    "        tempArray[i,j] = new\n",
    "        E = old -new\n",
    "        tempArray[i:i+3,j-2:j+3] = tempArray[i:i+3,j-2:j+3] +E*errorArray\n",
    "\n",
    "theErrorDiffusedImage=tempArray[2:height+2,2:width+2]\n",
    "#秀出圖片\n",
    "cv2.imshow(\"show photo\", theErrorDiffusedImage)\n",
    "#等按按鈕後關掉視窗\n",
    "cv2.waitKey(0)\n",
    "cv2.destroyAllWindows()\n"
   ],
   "metadata": {
    "collapsed": false,
    "pycharm": {
     "name": "#%%\n",
     "is_executing": true
    }
   }
  }
 ],
 "metadata": {
  "kernelspec": {
   "display_name": "Python 3",
   "language": "python",
   "name": "python3"
  },
  "language_info": {
   "codemirror_mode": {
    "name": "ipython",
    "version": 2
   },
   "file_extension": ".py",
   "mimetype": "text/x-python",
   "name": "python",
   "nbconvert_exporter": "python",
   "pygments_lexer": "ipython2",
   "version": "2.7.6"
  }
 },
 "nbformat": 4,
 "nbformat_minor": 0
}