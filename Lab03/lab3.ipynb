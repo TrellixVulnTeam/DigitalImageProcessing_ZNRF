{
 "cells": [
  {
   "cell_type": "code",
   "execution_count": 30,
   "metadata": {
    "collapsed": true
   },
   "outputs": [],
   "source": [
    "import cv2\n",
    "import numpy as np\n",
    "theImage=cv2.imread(\"Lenna.jpg\")\n",
    "#先把彩色圖片轉成黑白的\n",
    "theImageGray=cv2.cvtColor(theImage,cv2.COLOR_BGR2GRAY)\n",
    "#秀出黑白圖片\n",
    "cv2.imshow(\"theImageGray\", theImageGray)\n",
    "#等按按鈕後關掉視窗\n",
    "cv2.waitKey(0)\n",
    "cv2.destroyAllWindows()"
   ]
  },
  {
   "cell_type": "code",
   "execution_count": 31,
   "outputs": [],
   "source": [
    "DitherArray=np.array([[0.513,0.272,0.724,0.483,0.543,0.302,0.694,0.453],\n",
    " [0.151,0.755,0.091,0.966,0.181,0.758,0.121,0.936],\n",
    " [0.634,0.392,0.574,0.332,0.664,0.423,0.604,0.362],\n",
    " [0.060,0.875,0.211,0.815,0.030,0.906,0.241,0.845],\n",
    " [0.543,0.302,0.694,0.453,0.513,0.272,0.724,0.483],\n",
    " [0.181,0.758,0.121,0.936,0.151,0.755,0.091,0.936],\n",
    " [0.664,0.423,0.604,0.362,0.634,0.392,0.574,0.332],\n",
    " [0.030,0.906,0.241,0.845,0.060,0.875,0.211,0.815]])*255"
   ],
   "metadata": {
    "collapsed": false,
    "pycharm": {
     "name": "#%%\n"
    }
   }
  },
  {
   "cell_type": "code",
   "execution_count": 32,
   "outputs": [],
   "source": [
    "#Ordered Dithering\n",
    "theDitheredImage = np.empty_like(theImageGray)\n",
    "theDitheredImage[:]=theImageGray\n",
    "\n",
    "height,width=theDitheredImage.shape\n",
    "for i in range(0,height,8):\n",
    "    for j in range(0,width,8):\n",
    "        theDitheredImage[i:i+8,j:j+8]=(DitherArray<theDitheredImage[i:i+8,j:j+8])*255\n",
    "\n",
    "\n",
    "#秀出圖片\n",
    "cv2.imshow(\"theDitheredImage\", theDitheredImage)\n",
    "#等按按鈕後關掉視窗\n",
    "cv2.waitKey(0)\n",
    "cv2.destroyAllWindows()\n",
    "\n"
   ],
   "metadata": {
    "collapsed": false,
    "pycharm": {
     "name": "#%%\n"
    }
   }
  },
  {
   "cell_type": "code",
   "execution_count": 33,
   "outputs": [],
   "source": [
    "#Error Diffusion\n",
    "errorArray=np.array([[0.0,    0.0,     0.0,     0.19040, 0.095230],\n",
    " [0.04762,0.095230,0.19040, 0.095230,0.04762 ],\n",
    " [0.02381,0.047620,0.095230,0.047620,0.02381]])\n",
    "\n",
    "theErrorDiffusedImage = np.empty_like(theImageGray)\n",
    "theErrorDiffusedImage[:]=theImageGray\n",
    "\n",
    "height,width=theErrorDiffusedImage.shape\n",
    "\n",
    "tempArray=np.zeros((height+4,width+4))\n",
    "tempArray[2:height+2,2:width+2]=theErrorDiffusedImage\n",
    "for i in range(2,height+2):\n",
    "    for j in range(2,width+2):\n",
    "        old = tempArray[i, j]\n",
    "        new = (old // (255//2))*(255 //(2-1))\n",
    "        tempArray[i,j] = new\n",
    "        E = old -new\n",
    "        tempArray[i:i+3,j-2:j+3] = tempArray[i:i+3,j-2:j+3] +E*errorArray\n",
    "\n",
    "theErrorDiffusedImage=tempArray[2:height+2,2:width+2]\n",
    "#秀出圖片\n",
    "cv2.imshow(\"theErrorDiffusedImage\", theErrorDiffusedImage)\n",
    "#等按按鈕後關掉視窗\n",
    "cv2.waitKey(0)\n",
    "cv2.destroyAllWindows()"
   ],
   "metadata": {
    "collapsed": false,
    "pycharm": {
     "name": "#%%\n"
    }
   }
  },
  {
   "cell_type": "code",
   "execution_count": 34,
   "outputs": [],
   "source": [
    "#Dot Diffusion\n",
    "ClassMatrix=np.array([[204,  0,  5, 33, 51, 59, 23,118, 54, 69, 40,160,169,110,168,188],\n",
    " [  3,  6, 22, 36, 60, 50, 74,115,140, 82,147,164,171,142,220,214],\n",
    " [ 14,  7, 42, 16, 63, 52, 94, 56,133,152,158,177,179,208,222,  1],\n",
    " [ 15, 26, 43, 75, 79, 84,148, 81,139,136,166,102,217,219,226,  4],\n",
    " [ 17, 39, 72, 92,103,108,150,135,157,193,190,100,223,225,227, 13],\n",
    " [ 28,111, 99, 87,116,131,155,112,183,196,181,224,232,228, 12, 21],\n",
    " [ 47,120, 91,105,125,132,172,180,184,205,175,233,245,  8, 20, 41],\n",
    " [ 76, 65,129,137,165,145,178,194,206,170,229,244,246, 19, 24, 49],\n",
    " [ 80, 73,106,138,176,182,174,197,218,235,242,249,247, 18, 48, 68],\n",
    " [101,107,134,153,185,163,202,173,231,241,248,253, 44, 88, 70, 45],\n",
    " [123,141,149, 61,195,200,221,234,240,243,254, 38, 46, 77,104,109],\n",
    " [ 85, 96,156,130,203,215,230,250,251,252,255, 53, 62, 93, 86,117],\n",
    " [151,167,189,207,201,216,236,239, 25, 31, 34,113, 83, 95,124,114],\n",
    " [144,146,191,209,213,237,238, 29, 32, 55, 64, 97,126, 78,128,159],\n",
    " [187,192,198,212,  9, 10, 30, 35, 58, 67, 90, 71,122,127,154,161],\n",
    " [199,210,211,  2, 11, 27, 37, 57, 66, 89, 98,121,119,143,162,186]])\n",
    "\n",
    "ErrorArray=np.array([[0.38459,1,0.38459],\n",
    "[1,0,1],\n",
    "[0.38459,1,0.38459]])\n",
    "\n",
    "theDotDiffusedImage = np.empty_like(theImageGray)\n",
    "theDotDiffusedImage[:]=theImageGray\n",
    "\n",
    "height,width=theDotDiffusedImage.shape\n",
    "tempClassArray=np.zeros((16+2,16+2))\n",
    "tempClassArray[1:16+1,1:16+1]=ClassMatrix\n",
    "\n",
    "for i in range(0,height,16):\n",
    "    for j in range(0,width,16):\n",
    "        tempArray=np.zeros((16+2,16+2))\n",
    "        tempArray[1:16+1,1:16+1]=theDotDiffusedImage[i:i+16,j:j+16]\n",
    "        for findNumber in range(0,256):\n",
    "            tempErrorArray = np.empty_like(ErrorArray)\n",
    "            tempErrorArray[:]=ErrorArray\n",
    "            result = np.where(ClassMatrix == findNumber)\n",
    "            place= list(zip(result[0], result[1]))\n",
    "            old = tempArray[1+place[0][0],1+place[0][1]]\n",
    "            new = (old // 127)*255\n",
    "            tempArray[1+place[0][0],1+place[0][1]] = new\n",
    "            E = old -new\n",
    "            sum=0\n",
    "            for k in range(-1,2):\n",
    "                for m in range(-1,2):\n",
    "                    if tempClassArray[1+place[0][0]+k,1+place[0][1]+m]<=tempClassArray[1+place[0][0],1+place[0][1]]:\n",
    "                        tempErrorArray[k+1,m+1]=0;\n",
    "                    sum += tempErrorArray[k + 1, m + 1]\n",
    "            if not sum==0:\n",
    "                tempErrorArray = tempErrorArray / sum\n",
    "            tempArray[1+place[0][0]-1:1+place[0][0]+2,1+place[0][1]-1:1+place[0][1]+2]= tempArray[1+place[0][0]-1:1+place[0][0]+2,1+place[0][1]-1:1+place[0][1]+2] +E*tempErrorArray\n",
    "        theDotDiffusedImage[i:i+16,j:j+16]=tempArray[1:16+1,1:16+1]\n",
    "\n",
    "\n",
    "#秀出圖片\n",
    "cv2.imshow(\"theDotDiffusedImage\", theDotDiffusedImage)\n",
    "#等按按鈕後關掉視窗\n",
    "cv2.waitKey(0)\n",
    "cv2.destroyAllWindows()"
   ],
   "metadata": {
    "collapsed": false,
    "pycharm": {
     "name": "#%%\n"
    }
   }
  }
 ],
 "metadata": {
  "kernelspec": {
   "display_name": "Python 3",
   "language": "python",
   "name": "python3"
  },
  "language_info": {
   "codemirror_mode": {
    "name": "ipython",
    "version": 2
   },
   "file_extension": ".py",
   "mimetype": "text/x-python",
   "name": "python",
   "nbconvert_exporter": "python",
   "pygments_lexer": "ipython2",
   "version": "2.7.6"
  }
 },
 "nbformat": 4,
 "nbformat_minor": 0
}